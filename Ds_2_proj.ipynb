{
 "cells": [
  {
   "cell_type": "code",
   "execution_count": 1,
   "id": "8661d8a5",
   "metadata": {},
   "outputs": [],
   "source": [
    "import pandas as pd\n",
    "import numpy as np\n",
    "import csv"
   ]
  },
  {
   "cell_type": "code",
   "execution_count": 58,
   "id": "07b3e702",
   "metadata": {},
   "outputs": [],
   "source": [
    "tr_data = pd.read_csv('/Users/srikaramara/transactions/tx_transfers_10-11-2020_etherum_tx_csv-000000000025.csv', sep=',')"
   ]
  },
  {
   "cell_type": "code",
   "execution_count": 77,
   "id": "3cc6d0b6",
   "metadata": {},
   "outputs": [
    {
     "data": {
      "text/html": [
       "<div>\n",
       "<style scoped>\n",
       "    .dataframe tbody tr th:only-of-type {\n",
       "        vertical-align: middle;\n",
       "    }\n",
       "\n",
       "    .dataframe tbody tr th {\n",
       "        vertical-align: top;\n",
       "    }\n",
       "\n",
       "    .dataframe thead th {\n",
       "        text-align: right;\n",
       "    }\n",
       "</style>\n",
       "<table border=\"1\" class=\"dataframe\">\n",
       "  <thead>\n",
       "    <tr style=\"text-align: right;\">\n",
       "      <th></th>\n",
       "      <th>block_number</th>\n",
       "      <th>block_time</th>\n",
       "      <th>gas_price</th>\n",
       "    </tr>\n",
       "  </thead>\n",
       "  <tbody>\n",
       "    <tr>\n",
       "      <th>10391</th>\n",
       "      <td>10977762</td>\n",
       "      <td>2020-10-02 16:48:26 UTC</td>\n",
       "      <td>3</td>\n",
       "    </tr>\n",
       "    <tr>\n",
       "      <th>172086</th>\n",
       "      <td>11148041</td>\n",
       "      <td>2020-10-28 23:06:08 UTC</td>\n",
       "      <td>1000000000</td>\n",
       "    </tr>\n",
       "    <tr>\n",
       "      <th>290162</th>\n",
       "      <td>11272097</td>\n",
       "      <td>2020-11-17 00:12:11 UTC</td>\n",
       "      <td>1210000002</td>\n",
       "    </tr>\n",
       "    <tr>\n",
       "      <th>14912</th>\n",
       "      <td>10982569</td>\n",
       "      <td>2020-10-03 10:51:22 UTC</td>\n",
       "      <td>1331000003</td>\n",
       "    </tr>\n",
       "    <tr>\n",
       "      <th>85713</th>\n",
       "      <td>11057157</td>\n",
       "      <td>2020-10-15 00:36:23 UTC</td>\n",
       "      <td>2357947700</td>\n",
       "    </tr>\n",
       "    <tr>\n",
       "      <th>...</th>\n",
       "      <td>...</td>\n",
       "      <td>...</td>\n",
       "      <td>...</td>\n",
       "    </tr>\n",
       "    <tr>\n",
       "      <th>319263</th>\n",
       "      <td>11302532</td>\n",
       "      <td>2020-11-21 16:25:04 UTC</td>\n",
       "      <td>39392392355312</td>\n",
       "    </tr>\n",
       "    <tr>\n",
       "      <th>154363</th>\n",
       "      <td>11129521</td>\n",
       "      <td>2020-10-26 03:03:51 UTC</td>\n",
       "      <td>42553307387358</td>\n",
       "    </tr>\n",
       "    <tr>\n",
       "      <th>97188</th>\n",
       "      <td>11069177</td>\n",
       "      <td>2020-10-16 20:45:28 UTC</td>\n",
       "      <td>53354827703465</td>\n",
       "    </tr>\n",
       "    <tr>\n",
       "      <th>296188</th>\n",
       "      <td>11278377</td>\n",
       "      <td>2020-11-17 23:23:21 UTC</td>\n",
       "      <td>100180000000000</td>\n",
       "    </tr>\n",
       "    <tr>\n",
       "      <th>250970</th>\n",
       "      <td>11230722</td>\n",
       "      <td>2020-11-10 16:00:02 UTC</td>\n",
       "      <td>125175100000000</td>\n",
       "    </tr>\n",
       "  </tbody>\n",
       "</table>\n",
       "<p>376649 rows × 3 columns</p>\n",
       "</div>"
      ],
      "text/plain": [
       "        block_number               block_time        gas_price\n",
       "10391       10977762  2020-10-02 16:48:26 UTC                3\n",
       "172086      11148041  2020-10-28 23:06:08 UTC       1000000000\n",
       "290162      11272097  2020-11-17 00:12:11 UTC       1210000002\n",
       "14912       10982569  2020-10-03 10:51:22 UTC       1331000003\n",
       "85713       11057157  2020-10-15 00:36:23 UTC       2357947700\n",
       "...              ...                      ...              ...\n",
       "319263      11302532  2020-11-21 16:25:04 UTC   39392392355312\n",
       "154363      11129521  2020-10-26 03:03:51 UTC   42553307387358\n",
       "97188       11069177  2020-10-16 20:45:28 UTC   53354827703465\n",
       "296188      11278377  2020-11-17 23:23:21 UTC  100180000000000\n",
       "250970      11230722  2020-11-10 16:00:02 UTC  125175100000000\n",
       "\n",
       "[376649 rows x 3 columns]"
      ]
     },
     "execution_count": 77,
     "metadata": {},
     "output_type": "execute_result"
    }
   ],
   "source": [
    "# First Question\n",
    "blk_no = tr_data.drop_duplicates(subset=['tx_hash'])\n",
    "dff = blk_no.groupby([\"block_number\",\"block_time\"]).gas_price.sum().reset_index()\n",
    "dff.sort_values(by = \"gas_price\", kind='quicksort')"
   ]
  },
  {
   "cell_type": "code",
   "execution_count": null,
   "id": "06ea2bab",
   "metadata": {},
   "outputs": [],
   "source": [
    "#second "
   ]
  }
 ],
 "metadata": {
  "kernelspec": {
   "display_name": "Python 3 (ipykernel)",
   "language": "python",
   "name": "python3"
  },
  "language_info": {
   "codemirror_mode": {
    "name": "ipython",
    "version": 3
   },
   "file_extension": ".py",
   "mimetype": "text/x-python",
   "name": "python",
   "nbconvert_exporter": "python",
   "pygments_lexer": "ipython3",
   "version": "3.9.6"
  }
 },
 "nbformat": 4,
 "nbformat_minor": 5
}
