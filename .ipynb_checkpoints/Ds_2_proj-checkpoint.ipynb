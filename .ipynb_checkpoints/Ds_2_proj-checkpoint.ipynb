{
 "cells": [
  {
   "cell_type": "markdown",
   "id": "7c9575ae",
   "metadata": {},
   "source": [
    "# Useful Snippets"
   ]
  },
  {
   "cell_type": "code",
   "execution_count": 16,
   "id": "f474e12a",
   "metadata": {},
   "outputs": [],
   "source": [
    "# Checking the redundancy \n",
    "ls = tr_data.groupby(['tx_hash','block_time']).size()\n",
    "temp = tr_data.loc[tr_data['tx_hash'] == '0x9696bd31ba71959b385faea58a4f9f1c712a8770f2ac4b9deda06114404f605a']"
   ]
  },
  {
   "cell_type": "code",
   "execution_count": null,
   "id": "9d39688f",
   "metadata": {},
   "outputs": [],
   "source": [
    "# Time Calculation\n",
    "\n",
    "import time\n",
    "start_time = time.time() # Before exec\n",
    "\n",
    "print(\"--- %s seconds ---\" % (time.time() - start_time)) # After exec "
   ]
  },
  {
   "cell_type": "markdown",
   "id": "1001f878",
   "metadata": {},
   "source": [
    "# Start Prog"
   ]
  },
  {
   "cell_type": "code",
   "execution_count": 1,
   "id": "8661d8a5",
   "metadata": {},
   "outputs": [],
   "source": [
    "import pandas as pd\n",
    "import numpy as np\n",
    "import csv"
   ]
  },
  {
   "cell_type": "code",
   "execution_count": 2,
   "id": "07b3e702",
   "metadata": {},
   "outputs": [],
   "source": [
    "tr_data = pd.read_csv('/Users/srikaramara/transactions/tx_transfers_10-11-2020_etherum_tx_csv-000000000025.csv', sep=',')"
   ]
  },
  {
   "cell_type": "code",
   "execution_count": 38,
   "id": "3cc6d0b6",
   "metadata": {
    "scrolled": true
   },
   "outputs": [
    {
     "name": "stdout",
     "output_type": "stream",
     "text": [
      "--- 2.0203800201416016 seconds ---\n"
     ]
    }
   ],
   "source": [
    "import time\n",
    "start_time = time.time()\n",
    "# First Question\n",
    "blk_no = tr_data.drop_duplicates(subset=['tx_hash'])\n",
    "dff = blk_no.groupby([\"block_number\",\"block_time\"]).gas.sum().reset_index()\n",
    "dff.sort_values(by = \"gas\", kind='quicksort')\n",
    "dff\n",
    "print(\"--- %s seconds ---\" % (time.time() - start_time))"
   ]
  },
  {
   "cell_type": "code",
   "execution_count": 42,
   "id": "06ea2bab",
   "metadata": {},
   "outputs": [
    {
     "data": {
      "text/plain": [
       "tx_hash                                                             block_number\n",
       "0x000004f800861ffc224433e4e37579e755da8edab84139f8c4205590e9f68274  11342541        1\n",
       "0xaaaeb8f305176ade69fe2e17eb87dc39c98f6f8014beb1b2184747ce4023bea7  11230481        1\n",
       "0xaaaeb8508844eae3219945a7d55d1532f6d2a06b3653f2ef209405216f3bd282  11231044        1\n",
       "0xaaaeb29d36798e6d0acb5dabeda19212f44893581bf0200d405bbb05a885fb2e  11157460        1\n",
       "0xaaaead3e7d2ba396bbfeeee16fa231bf7406f44f847ebc6c03436a010574e477  11304598        1\n",
       "                                                                                   ..\n",
       "0x554a13a60f589eff224d5c760049ef4b970ac5c8cad233ebbf72d5b115142cc7  11085564        1\n",
       "0x554a1333583da97f12e03842f84426c94060c27b017eb9563d9efea788000849  11104019        1\n",
       "0x554a082a9a1b27d2f89b47948d988a92c15dc6e9b8db85edf81c7b88241d635f  11113449        1\n",
       "0x554a659b75838d770d1e66ccb1d5d4967185ecb66975edb795d3cffa51b1ed5a  11063155        1\n",
       "0xffffffb09d0de9630d3f841b6d37af6eb3830f0c37c00c5104e29ce1cb7ed7e5  11340105        1\n",
       "Length: 1668163, dtype: int64"
      ]
     },
     "execution_count": 42,
     "metadata": {},
     "output_type": "execute_result"
    }
   ],
   "source": [
    "#second \n",
    "tmp_1 = blk_no.groupby(['tx_hash','block_number']).size()\n",
    "tmp_1.sort_values()"
   ]
  }
 ],
 "metadata": {
  "kernelspec": {
   "display_name": "Python 3 (ipykernel)",
   "language": "python",
   "name": "python3"
  },
  "language_info": {
   "codemirror_mode": {
    "name": "ipython",
    "version": 3
   },
   "file_extension": ".py",
   "mimetype": "text/x-python",
   "name": "python",
   "nbconvert_exporter": "python",
   "pygments_lexer": "ipython3",
   "version": "3.9.6"
  }
 },
 "nbformat": 4,
 "nbformat_minor": 5
}
