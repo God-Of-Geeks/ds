{
 "cells": [
  {
   "cell_type": "markdown",
   "id": "dc29ec81",
   "metadata": {},
   "source": [
    "# Useful Snippets"
   ]
  },
  {
   "cell_type": "code",
   "execution_count": 8,
   "id": "c21b7ed9",
   "metadata": {
    "scrolled": true
   },
   "outputs": [
    {
     "name": "stdout",
     "output_type": "stream",
     "text": [
      "Requirement already satisfied: pandas in /Library/Frameworks/Python.framework/Versions/3.9/lib/python3.9/site-packages (1.3.1)\r\n",
      "Requirement already satisfied: pytz>=2017.3 in /Library/Frameworks/Python.framework/Versions/3.9/lib/python3.9/site-packages (from pandas) (2021.1)\r\n",
      "Requirement already satisfied: numpy>=1.17.3 in /Library/Frameworks/Python.framework/Versions/3.9/lib/python3.9/site-packages (from pandas) (1.21.1)\r\n",
      "Requirement already satisfied: python-dateutil>=2.7.3 in /Library/Frameworks/Python.framework/Versions/3.9/lib/python3.9/site-packages (from pandas) (2.8.2)\r\n",
      "Requirement already satisfied: six>=1.5 in /Library/Frameworks/Python.framework/Versions/3.9/lib/python3.9/site-packages (from python-dateutil>=2.7.3->pandas) (1.16.0)\r\n"
     ]
    }
   ],
   "source": [
    "! pip install pandas"
   ]
  },
  {
   "cell_type": "code",
   "execution_count": 16,
   "id": "ec826b67",
   "metadata": {},
   "outputs": [],
   "source": [
    "# Checking the redundancy \n",
    "ls = tr_data.groupby(['tx_hash','block_time']).size()\n",
    "temp = tr_data.loc[tr_data['tx_hash'] == '0x9696bd31ba71959b385faea58a4f9f1c712a8770f2ac4b9deda06114404f605a']"
   ]
  },
  {
   "cell_type": "code",
   "execution_count": null,
   "id": "ed3a50b3",
   "metadata": {},
   "outputs": [],
   "source": [
    "# Time Calculation\n",
    "\n",
    "import time\n",
    "start_time = time.time() # Before exec\n",
    "\n",
    "print(\"--- %s seconds ---\" % (time.time() - start_time)) # After exec "
   ]
  },
  {
   "cell_type": "markdown",
   "id": "64309c88",
   "metadata": {},
   "source": [
    "# Start Prog"
   ]
  },
  {
   "cell_type": "code",
   "execution_count": 3,
   "id": "8661d8a5",
   "metadata": {},
   "outputs": [],
   "source": [
    "import pandas as pd\n",
    "import numpy as np\n",
    "import csv"
   ]
  },
  {
   "cell_type": "code",
   "execution_count": 4,
   "id": "07b3e702",
   "metadata": {},
   "outputs": [],
   "source": [
    "tr_data = pd.read_csv('/Users/srikaramara/transactions/tx_transfers_10-11-2020_etherum_tx_csv-000000000025.csv', sep=',')"
   ]
  },
  {
   "cell_type": "markdown",
   "id": "01dfe0b8",
   "metadata": {},
   "source": [
    "### First Question"
   ]
  },
  {
   "cell_type": "code",
   "execution_count": 5,
   "id": "3cc6d0b6",
   "metadata": {
    "scrolled": true
   },
   "outputs": [
    {
     "name": "stdout",
     "output_type": "stream",
     "text": [
      "--- 2.118259906768799 seconds ---\n"
     ]
    }
   ],
   "source": [
    "import time\n",
    "start_time = time.time()\n",
    "# First Question\n",
    "blk_no = tr_data.drop_duplicates(subset=['tx_hash']) # blk no is dropped duplicates dataframe\n",
    "dff = blk_no.groupby([\"block_number\",\"block_time\"]).gas.sum().reset_index()\n",
    "dff.sort_values(by = \"gas\", kind='heapsort')\n",
    "dff.rename(columns={'gas': 'block_gas'}, inplace=True) # dff = first q\n",
    "# dff.to_csv('/Users/srikaramara/Desktop/first_q.csv')\n",
    "print(\"--- %s seconds ---\" % (time.time() - start_time))"
   ]
  },
  {
   "cell_type": "markdown",
   "id": "5b06ba71",
   "metadata": {},
   "source": [
    "### Second Question"
   ]
  },
  {
   "cell_type": "code",
   "execution_count": 6,
   "id": "06ea2bab",
   "metadata": {
    "scrolled": true
   },
   "outputs": [],
   "source": [
    "tmp_1 = blk_no.groupby(['block_number','block_time']).size().to_frame('transactions')\n",
    "# tmp_1.to_csv('/Users/srikaramara/Desktop/second_q.csv')"
   ]
  },
  {
   "cell_type": "markdown",
   "id": "46ce7356",
   "metadata": {},
   "source": [
    "### Third Question"
   ]
  },
  {
   "cell_type": "code",
   "execution_count": null,
   "id": "d5d5013c",
   "metadata": {},
   "outputs": [],
   "source": []
  }
 ],
 "metadata": {
  "kernelspec": {
   "display_name": "Python 3 (ipykernel)",
   "language": "python",
   "name": "python3"
  },
  "language_info": {
   "codemirror_mode": {
    "name": "ipython",
    "version": 3
   },
   "file_extension": ".py",
   "mimetype": "text/x-python",
   "name": "python",
   "nbconvert_exporter": "python",
   "pygments_lexer": "ipython3",
   "version": "3.9.6"
  }
 },
 "nbformat": 4,
 "nbformat_minor": 5
}
